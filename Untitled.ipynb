{
 "cells": [
  {
   "cell_type": "code",
   "execution_count": 2,
   "id": "6e975bb8",
   "metadata": {},
   "outputs": [
    {
     "name": "stdout",
     "output_type": "stream",
     "text": [
      "python version: 3.6.10\n"
     ]
    }
   ],
   "source": [
    "import pandas as pd\n",
    "from platform import python_version\n",
    "\n",
    "from random import sample\n",
    "from random import seed\n",
    "print(\"python version:\",python_version())"
   ]
  },
  {
   "cell_type": "code",
   "execution_count": 4,
   "id": "0fabb751",
   "metadata": {},
   "outputs": [
    {
     "name": "stdout",
     "output_type": "stream",
     "text": [
      "Observed yes rate(%): A: 70.0 ,b: 40.0 a-b: 30.0 \n",
      "Total counts: Yes: 11 , no: 9\n"
     ]
    }
   ],
   "source": [
    "# variables that fully define the a/b test results\n",
    "t = 20   #total number of subjexts(a+b)\n",
    "a = 10\n",
    "b = 10\n",
    "a_yes = 7  #yes count in group a\n",
    "b_yes = 4  #yes count in group b\n",
    "\n",
    "#compute remaining a/b test results\n",
    "t_yes = a_yes+b_yes   #total yes count\n",
    "t_no = t-t_yes        #total no count\n",
    "a_yes_pc = 100*a_yes/a    #yes percentage in a\n",
    "b_yes_pc = 100* b_yes/b   # yes percentage in b\n",
    "\n",
    "#a/b test statistic : yes percentage difference (a-b)\n",
    "ab_yes_pc = a_yes_pc - b_yes_pc\n",
    "\n",
    "print('Observed yes rate(%): A:',a_yes_pc,',b:',b_yes_pc,'a-b:' , ab_yes_pc,'\\nTotal counts: Yes:',t_yes,', no:', t_no)\n"
   ]
  },
  {
   "cell_type": "code",
   "execution_count": null,
   "id": "308aa61c",
   "metadata": {},
   "outputs": [],
   "source": [
    "seed(2)  #for reproducible results\n",
    "bag1 = [1]*t_yes + [0]*t_no   #s1:all results bag\n",
    "bag2 = sample(bag1, len(bag1)) #shuffle bag\n",
    "a_rs = bag2[:a]  # S3:random sample a\n",
    "b_rs = bag2[b:]  #S4: random sample b\n",
    "\n",
    "#"
   ]
  }
 ],
 "metadata": {
  "kernelspec": {
   "display_name": "Python [conda env:PythonDate] *",
   "language": "python",
   "name": "conda-env-PythonDate-py"
  },
  "language_info": {
   "codemirror_mode": {
    "name": "ipython",
    "version": 3
   },
   "file_extension": ".py",
   "mimetype": "text/x-python",
   "name": "python",
   "nbconvert_exporter": "python",
   "pygments_lexer": "ipython3",
   "version": "3.6.10"
  }
 },
 "nbformat": 4,
 "nbformat_minor": 5
}
