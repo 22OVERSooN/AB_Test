{
 "cells": [
  {
   "cell_type": "code",
   "execution_count": 2,
   "id": "1163e494",
   "metadata": {},
   "outputs": [
    {
     "name": "stdout",
     "output_type": "stream",
     "text": [
      "python version: 3.6.10\n"
     ]
    }
   ],
   "source": [
    "import pandas as pd\n",
    "from platform import python_version\n",
    "\n",
    "from random import sample\n",
    "from random import seed\n",
    "print(\"python version:\",python_version())"
   ]
  },
  {
   "cell_type": "code",
   "execution_count": 4,
   "id": "e713f39d",
   "metadata": {},
   "outputs": [
    {
     "name": "stdout",
     "output_type": "stream",
     "text": [
      "Observed yes rate(%): A: 70.0 ,b: 40.0 a-b: 30.0 \n",
      "Total counts: Yes: 11 , no: 9\n"
     ]
    }
   ],
   "source": [
    "# variables that fully define the a/b test results\n",
    "t = 20   #total number of subjexts(a+b)\n",
    "a = 10\n",
    "b = 10\n",
    "a_yes = 7  #yes count in group a\n",
    "b_yes = 4  #yes count in group b\n",
    "\n",
    "#compute remaining a/b test results\n",
    "t_yes = a_yes+b_yes   #total yes count\n",
    "t_no = t-t_yes        #total no count\n",
    "a_yes_pc = 100*a_yes/a    #yes percentage in a\n",
    "b_yes_pc = 100* b_yes/b   # yes percentage in b\n",
    "\n",
    "#a/b test statistic : yes percentage difference (a-b)\n",
    "ab_yes_pc = a_yes_pc - b_yes_pc\n",
    "\n",
    "print('Observed yes rate(%): A:',a_yes_pc,',b:',b_yes_pc,'a-b:' , ab_yes_pc,'\\nTotal counts: Yes:',t_yes,', no:', t_no)\n"
   ]
  },
  {
   "cell_type": "code",
   "execution_count": 10,
   "id": "38d4c176",
   "metadata": {},
   "outputs": [
    {
     "name": "stdout",
     "output_type": "stream",
     "text": [
      "(1) Bag  : [1 1 1 1 1 1 1 1 1 1 1 0 0 0 0 0 0 0 0 0] \n",
      "(2)Bag shuffled: [1 1 0 0 1 0 0 1 1 0 1 1 1 0 0 0 1 0 1 1] \n",
      "(3)A resample : [1 1 0 0 1 0 0 1 1 0]\n"
     ]
    }
   ],
   "source": [
    "seed(2)  #for reproducible results\n",
    "bag1 = [1]*t_yes + [0]*t_no   #s1:all results bag\n",
    "bag2 = sample(bag1, len(bag1)) #shuffle bag\n",
    "a_rs = bag2[:a]  # S3:random sample a\n",
    "b_rs = bag2[b:]  #S4: random sample b\n",
    "\n",
    "#compute the test atatistic\n",
    "a_yes_pc_rs = 100 *sum(a_rs) / a\n",
    "b_yes_pc_rs = 100 * sum(b_rs) / b\n",
    "ab_yes_pc_rs = a_yes_pc_rs - b_yes_pc_rs\n",
    "\n",
    "print('(1) Bag  :', str(bag1).replace(',', ''),\n",
    "      '\\n(2)Bag shuffled:' , str(bag2).replace(\",\",\"\"),\n",
    "      '\\n(3)A resample :' , str(a_rs).replace(',',''))"
   ]
  },
  {
   "cell_type": "code",
   "execution_count": 11,
   "id": "82abaf6a",
   "metadata": {},
   "outputs": [
    {
     "name": "stdout",
     "output_type": "stream",
     "text": [
      "[-10 10 -10 10 -30 -10 -10 -10 -10 30 -30 10 10 10 -50]\n",
      "[-30 10 30 10 -30 10 10 -10 -10 50 -10 -30 -30 10 -10]\n",
      "[-30 10 10 -10 -30 30 10 -10 30 -10 -10 -10 10 -30 30]\n",
      "[-50 -30 -10 -10 30 30 30 -10 10 -10 -10 10 -30 10 10]\n",
      "[10 -10 -30 -10 30 -30 -10 10 10 10 -10 30 50 10 10]\n",
      "[10 10 -30 -10 -30 30 10 -10 -10 -10 -10 30 -10 -10 10]\n",
      "[10 -30 30 10 30 30 -30 10 10 -30]\n"
     ]
    }
   ],
   "source": [
    "seed(2) #for reproducible results\n",
    "bag = [1]*t_yes + [0]*t_no  #all results bag\n",
    "\n",
    "#repeat the permutations results for a large number of times\n",
    "p=100   #number of permutations\n",
    "perm_res = [0]*p #list for permutation results\n",
    "for i in range(p):\n",
    "    bag = sample(bag, k = len(bag))    #shuffle the bag\n",
    "    a_rs = bag[:a]\n",
    "    b_rs = bag[a:]\n",
    "    #compute the test atatistic\n",
    "    perm_res[i] = 100*sum(a_rs)/a - 100*sum(b_rs)/b\n",
    "    \n",
    "#print results\n",
    "n=15\n",
    "for i in range(0, len(perm_res),n):\n",
    "    print(str(perm_res[i:i+n]).replace(\",\",\"\").replace(\".0\",\"\"))"
   ]
  },
  {
   "cell_type": "code",
   "execution_count": null,
   "id": "05af2d67",
   "metadata": {},
   "outputs": [],
   "source": []
  }
 ],
 "metadata": {
  "kernelspec": {
   "display_name": "Python [conda env:PythonDate] *",
   "language": "python",
   "name": "conda-env-PythonDate-py"
  },
  "language_info": {
   "codemirror_mode": {
    "name": "ipython",
    "version": 3
   },
   "file_extension": ".py",
   "mimetype": "text/x-python",
   "name": "python",
   "nbconvert_exporter": "python",
   "pygments_lexer": "ipython3",
   "version": "3.6.10"
  }
 },
 "nbformat": 4,
 "nbformat_minor": 5
}
